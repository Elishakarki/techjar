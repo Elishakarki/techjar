{
  "nbformat": 4,
  "nbformat_minor": 0,
  "metadata": {
    "colab": {
      "provenance": [],
      "authorship_tag": "ABX9TyP6qerGnwVQcO4KO+8PA0+7",
      "include_colab_link": true
    },
    "kernelspec": {
      "name": "python3",
      "display_name": "Python 3"
    },
    "language_info": {
      "name": "python"
    }
  },
  "cells": [
    {
      "cell_type": "markdown",
      "metadata": {
        "id": "view-in-github",
        "colab_type": "text"
      },
      "source": [
        "<a href=\"https://colab.research.google.com/github/Elishakarki/techjar/blob/main/tensor.ipynb\" target=\"_parent\"><img src=\"https://colab.research.google.com/assets/colab-badge.svg\" alt=\"Open In Colab\"/></a>"
      ]
    },
    {
      "cell_type": "code",
      "source": [
        "!pip install torch"
      ],
      "metadata": {
        "colab": {
          "base_uri": "https://localhost:8080/"
        },
        "id": "hA9jPQLq-clb",
        "outputId": "53e4f59e-dc4f-49e2-ca0b-9aa7572b59a2"
      },
      "execution_count": null,
      "outputs": [
        {
          "output_type": "stream",
          "name": "stdout",
          "text": [
            "Requirement already satisfied: torch in /usr/local/lib/python3.10/dist-packages (2.5.1+cu121)\n",
            "Requirement already satisfied: filelock in /usr/local/lib/python3.10/dist-packages (from torch) (3.16.1)\n",
            "Requirement already satisfied: typing-extensions>=4.8.0 in /usr/local/lib/python3.10/dist-packages (from torch) (4.12.2)\n",
            "Requirement already satisfied: networkx in /usr/local/lib/python3.10/dist-packages (from torch) (3.4.2)\n",
            "Requirement already satisfied: jinja2 in /usr/local/lib/python3.10/dist-packages (from torch) (3.1.4)\n",
            "Requirement already satisfied: fsspec in /usr/local/lib/python3.10/dist-packages (from torch) (2024.10.0)\n",
            "Requirement already satisfied: sympy==1.13.1 in /usr/local/lib/python3.10/dist-packages (from torch) (1.13.1)\n",
            "Requirement already satisfied: mpmath<1.4,>=1.1.0 in /usr/local/lib/python3.10/dist-packages (from sympy==1.13.1->torch) (1.3.0)\n",
            "Requirement already satisfied: MarkupSafe>=2.0 in /usr/local/lib/python3.10/dist-packages (from jinja2->torch) (3.0.2)\n"
          ]
        }
      ]
    },
    {
      "cell_type": "code",
      "source": [
        "!pip install numpy"
      ],
      "metadata": {
        "colab": {
          "base_uri": "https://localhost:8080/"
        },
        "id": "hnIGkx80-mYR",
        "outputId": "08bd69c9-ac55-4444-c48f-ce86dfcbf79c"
      },
      "execution_count": null,
      "outputs": [
        {
          "output_type": "stream",
          "name": "stdout",
          "text": [
            "Requirement already satisfied: numpy in /usr/local/lib/python3.10/dist-packages (1.26.4)\n"
          ]
        }
      ]
    },
    {
      "cell_type": "code",
      "source": [
        "import torch\n",
        "import numpy as np\n"
      ],
      "metadata": {
        "id": "axuoq0aa-rmY"
      },
      "execution_count": null,
      "outputs": []
    },
    {
      "cell_type": "code",
      "source": [],
      "metadata": {
        "id": "P5E33nj6_T8x"
      },
      "execution_count": null,
      "outputs": []
    },
    {
      "cell_type": "code",
      "source": [
        "a=torch.tensor([1,2,3,4])\n",
        "b= torch.tensor([4,5,6])\n",
        "print(a)\n",
        "print(b)"
      ],
      "metadata": {
        "colab": {
          "base_uri": "https://localhost:8080/"
        },
        "id": "2r3THubj-21a",
        "outputId": "d35b64d8-d8d5-41af-a56b-6825efdb5f4a"
      },
      "execution_count": null,
      "outputs": [
        {
          "output_type": "stream",
          "name": "stdout",
          "text": [
            "tensor([1, 2, 3, 4])\n",
            "tensor([4, 5, 6])\n"
          ]
        }
      ]
    },
    {
      "cell_type": "code",
      "source": [
        "torch.zeros(9,1)"
      ],
      "metadata": {
        "colab": {
          "base_uri": "https://localhost:8080/"
        },
        "id": "yP6SJhtO_YOU",
        "outputId": "2749d94b-7386-406d-dced-439327b302e6"
      },
      "execution_count": null,
      "outputs": [
        {
          "output_type": "execute_result",
          "data": {
            "text/plain": [
              "tensor([[0.],\n",
              "        [0.],\n",
              "        [0.],\n",
              "        [0.],\n",
              "        [0.],\n",
              "        [0.],\n",
              "        [0.],\n",
              "        [0.],\n",
              "        [0.]])"
            ]
          },
          "metadata": {},
          "execution_count": 11
        }
      ]
    },
    {
      "cell_type": "code",
      "source": [
        "x=torch.randn(3,requires_grad=True)\n",
        "w=torch.randn(3, requires_grad=True)\n",
        "y=(x*w).sum()\n",
        "y.backward()\n",
        "print(w)\n",
        "\n",
        "print(w.grad)"
      ],
      "metadata": {
        "colab": {
          "base_uri": "https://localhost:8080/"
        },
        "id": "VaWiR7v4vCBE",
        "outputId": "0868ebe1-89d1-4883-a18b-ea0da748a376"
      },
      "execution_count": null,
      "outputs": [
        {
          "output_type": "stream",
          "name": "stdout",
          "text": [
            "tensor([ 9.2995e-01,  8.5472e-01, -3.8172e-04], requires_grad=True)\n",
            "tensor([-0.6797,  2.3099, -0.5367])\n"
          ]
        }
      ]
    },
    {
      "cell_type": "code",
      "source": [
        "# Batch matrix multiplication in PyTorch\n",
        "batch_A = torch.rand(10, 2, 3)  # 10 matrices of size 2x3\n",
        "batch_B = torch.rand(10, 3, 4)  # 10 matrices of size 3x4\n",
        "batch_C = torch.bmm(batch_A, batch_B)  # Result: 10 matrices of size 2x4\n",
        "print(batch_A)\n",
        "print(batch_B)\n",
        "print(batch_C)\n",
        "\n",
        "print(batch_C.shape)  # Output: torch.Size([10, 2, 4])\n"
      ],
      "metadata": {
        "colab": {
          "base_uri": "https://localhost:8080/"
        },
        "collapsed": true,
        "id": "ONcVKYpFFyzF",
        "outputId": "d09f163d-b125-40c6-c177-8048c94b11d7"
      },
      "execution_count": 16,
      "outputs": [
        {
          "output_type": "stream",
          "name": "stdout",
          "text": [
            "tensor([[[0.9776, 0.8353, 0.9619],\n",
            "         [0.1898, 0.3683, 0.6012]],\n",
            "\n",
            "        [[0.9109, 0.0476, 0.5401],\n",
            "         [0.1463, 0.4867, 0.3371]],\n",
            "\n",
            "        [[0.2571, 0.5484, 0.4552],\n",
            "         [0.4438, 0.1753, 0.4865]],\n",
            "\n",
            "        [[0.0968, 0.1779, 0.3195],\n",
            "         [0.2834, 0.6522, 0.6369]],\n",
            "\n",
            "        [[0.1558, 0.1222, 0.2970],\n",
            "         [0.8366, 0.6934, 0.4512]],\n",
            "\n",
            "        [[0.7802, 0.9058, 0.1491],\n",
            "         [0.1931, 0.1327, 0.0438]],\n",
            "\n",
            "        [[0.6955, 0.6861, 0.1058],\n",
            "         [0.4909, 0.2803, 0.8491]],\n",
            "\n",
            "        [[0.3701, 0.3942, 0.1538],\n",
            "         [0.4226, 0.7553, 0.9305]],\n",
            "\n",
            "        [[0.0494, 0.3304, 0.5545],\n",
            "         [0.1046, 0.6332, 0.5450]],\n",
            "\n",
            "        [[0.5891, 0.8641, 0.7263],\n",
            "         [0.7117, 0.3914, 0.7637]]])\n",
            "tensor([[[0.0489, 0.5529, 0.7081, 0.3028],\n",
            "         [0.1579, 0.0721, 0.9063, 0.3203],\n",
            "         [0.6321, 0.5265, 0.4057, 0.5308]],\n",
            "\n",
            "        [[0.1314, 0.9840, 0.1367, 0.4329],\n",
            "         [0.9746, 0.1228, 0.7289, 0.8045],\n",
            "         [0.0760, 0.1204, 0.4546, 0.3502]],\n",
            "\n",
            "        [[0.0349, 0.9098, 0.9493, 0.0288],\n",
            "         [0.3469, 0.9257, 0.3312, 0.6155],\n",
            "         [0.7796, 0.1611, 0.0764, 0.6568]],\n",
            "\n",
            "        [[0.2490, 0.8956, 0.5574, 0.4877],\n",
            "         [0.6211, 0.5513, 0.3803, 0.4451],\n",
            "         [0.3623, 0.3293, 0.3515, 0.8921]],\n",
            "\n",
            "        [[0.2097, 0.6757, 0.0988, 0.9881],\n",
            "         [0.9218, 0.0761, 0.7690, 0.7637],\n",
            "         [0.0702, 0.5272, 0.0956, 0.3775]],\n",
            "\n",
            "        [[0.5352, 0.3067, 0.0546, 0.4258],\n",
            "         [0.4867, 0.2865, 0.5865, 0.3071],\n",
            "         [0.8778, 0.4504, 0.4998, 0.4705]],\n",
            "\n",
            "        [[0.0124, 0.3551, 0.4616, 0.2876],\n",
            "         [0.2953, 0.3401, 0.8414, 0.8506],\n",
            "         [0.9046, 0.8804, 0.9363, 0.3530]],\n",
            "\n",
            "        [[0.8067, 0.0132, 0.2206, 0.8990],\n",
            "         [0.1755, 0.8653, 0.9113, 0.5810],\n",
            "         [0.3908, 0.6200, 0.4384, 0.2992]],\n",
            "\n",
            "        [[0.3267, 0.3173, 0.8162, 0.7657],\n",
            "         [0.5524, 0.0993, 0.8455, 0.7575],\n",
            "         [0.8252, 0.1984, 0.4221, 0.5100]],\n",
            "\n",
            "        [[0.2223, 0.1880, 0.9506, 0.2625],\n",
            "         [0.1198, 0.5836, 0.8770, 0.0634],\n",
            "         [0.4256, 0.4234, 0.6042, 0.6432]]])\n",
            "tensor([[[0.7876, 1.1072, 1.8394, 1.0741],\n",
            "         [0.4475, 0.4480, 0.7121, 0.4946]],\n",
            "\n",
            "        [[0.2071, 0.9672, 0.4047, 0.6217],\n",
            "         [0.5192, 0.2443, 0.5280, 0.5729]],\n",
            "\n",
            "        [[0.5541, 0.8148, 0.4604, 0.6439],\n",
            "         [0.4556, 0.6444, 0.5165, 0.4402]],\n",
            "\n",
            "        [[0.2504, 0.2900, 0.2340, 0.4115],\n",
            "         [0.7064, 0.8231, 0.6298, 0.9966]],\n",
            "\n",
            "        [[0.1662, 0.2712, 0.1378, 0.3594],\n",
            "         [0.8463, 0.8559, 0.6591, 1.5265]],\n",
            "\n",
            "        [[0.9893, 0.5660, 0.6484, 0.6805],\n",
            "         [0.2064, 0.1170, 0.1102, 0.1436]],\n",
            "\n",
            "        [[0.3069, 0.5734, 0.9974, 0.8210],\n",
            "         [0.8570, 1.0171, 1.2575, 0.6793]],\n",
            "\n",
            "        [[0.4279, 0.4413, 0.5083, 0.6078],\n",
            "         [0.8371, 1.2360, 1.1894, 1.0971]],\n",
            "\n",
            "        [[0.6562, 0.1585, 0.5538, 0.5709],\n",
            "         [0.8336, 0.2042, 0.8507, 0.8376]],\n",
            "\n",
            "        [[0.5436, 0.9227, 1.7566, 0.6766],\n",
            "         [0.5301, 0.6857, 1.4812, 0.7029]]])\n",
            "torch.Size([10, 2, 4])\n"
          ]
        }
      ]
    },
    {
      "cell_type": "markdown",
      "source": [
        "Detaching Gradients in Tensors"
      ],
      "metadata": {
        "id": "s8ps24cS0Phq"
      }
    },
    {
      "cell_type": "code",
      "source": [],
      "metadata": {
        "id": "OrLiBzpoFws3"
      },
      "execution_count": null,
      "outputs": []
    },
    {
      "cell_type": "code",
      "source": [
        "import torch\n",
        "\n",
        "x = torch.tensor([2.0, 3.0], requires_grad=True)  # Track gradients\n",
        "y = x ** 2  # Create computational graph\n",
        "z = y.detach()  # Detach gradients\n",
        "\n",
        "# Backward pass on y\n",
        "y.sum().backward()\n",
        "\n",
        "print(\"x.grad after backward pass:\", x.grad)  # Gradients computed\n",
        "print(\"z.requires_grad:\", z.requires_grad)  # Detached tensor does not require gradients\n"
      ],
      "metadata": {
        "colab": {
          "base_uri": "https://localhost:8080/"
        },
        "id": "QoVEUxbc0MGT",
        "outputId": "54e984a3-b560-403f-f70f-d6081918add5"
      },
      "execution_count": null,
      "outputs": [
        {
          "output_type": "stream",
          "name": "stdout",
          "text": [
            "x.grad after backward pass: tensor([4., 6.])\n",
            "z.requires_grad: False\n"
          ]
        }
      ]
    },
    {
      "cell_type": "markdown",
      "source": [
        "Basic NN"
      ],
      "metadata": {
        "id": "ryXkgOwD3omp"
      }
    },
    {
      "cell_type": "code",
      "source": [
        "import numpy as np\n",
        "import torch\n",
        "# Input (temp, rainfall, humidity)\n",
        "inputs = torch.tensor([[73, 67, 43],\n",
        "                   [91, 88, 64],\n",
        "                   [87, 134, 58],\n",
        "                   [102, 43, 37],\n",
        "                   [69, 96, 70],\n",
        "                   [85, 100, 60],\n",
        "                   [95, 80, 55],\n",
        "                   [105, 120, 75],\n",
        "                   [78, 90, 50],\n",
        "                   [82, 70, 45]],dtype=torch.float32 )\n",
        "\n",
        "# Targets (apples, oranges)\n",
        "targets = torch.tensor([[56, 70],\n",
        "                    [81, 101],\n",
        "                    [119, 133],\n",
        "                    [22, 37],\n",
        "                    [103, 119],\n",
        "                    [98, 110],\n",
        "                    [88, 95],\n",
        "                    [115, 140],\n",
        "                    [76, 85],\n",
        "                    [65, 75]],dtype=torch.float32 )\n",
        "\n",
        "w=torch.randn(2,3,requires_grad=True)\n",
        "b=torch.randn(2,requires_grad=True)\n",
        "print(w)\n",
        "print(b)"
      ],
      "metadata": {
        "id": "L2Mxsd_i3lMA",
        "colab": {
          "base_uri": "https://localhost:8080/"
        },
        "outputId": "e9712368-4806-4482-a647-d586cbb628ce"
      },
      "execution_count": 24,
      "outputs": [
        {
          "output_type": "stream",
          "name": "stdout",
          "text": [
            "tensor([[ 0.7653, -0.2567,  1.5716],\n",
            "        [ 0.3162,  1.4715,  1.9053]], requires_grad=True)\n",
            "tensor([-0.0729,  0.3877], requires_grad=True)\n"
          ]
        }
      ]
    },
    {
      "cell_type": "code",
      "source": [
        "import torch.nn.functional as F\n",
        "# defining model\n",
        "def model(x):\n",
        "\n",
        "  return torch.matmul(x,w.T)+b\n",
        "\n",
        "#loss function\n",
        "for i in range 100:\n",
        "  predictions=model(inputs)\n",
        "  loss=F.mse_loss(predictions,targets)\n",
        "  loss.backward()\n"
      ],
      "metadata": {
        "colab": {
          "base_uri": "https://localhost:8080/"
        },
        "id": "4O2ONvkSHoUX",
        "outputId": "51a46d95-041a-4f67-e545-e6680541a432"
      },
      "execution_count": 27,
      "outputs": [
        {
          "output_type": "stream",
          "name": "stdout",
          "text": [
            "tensor([[106.1744, 203.9908],\n",
            "        [147.5630, 280.5956],\n",
            "        [123.2623, 335.5896],\n",
            "        [125.1006, 166.4125],\n",
            "        [138.1017, 296.8429],\n",
            "        [133.6037, 288.7356],\n",
            "        [138.5335, 252.9407],\n",
            "        [167.3499, 353.0697],\n",
            "        [115.0976, 252.7541],\n",
            "        [115.4354, 215.0619]], grad_fn=<AddBackward0>)\n",
            "tensor(15956.8887, grad_fn=<MseLossBackward0>)\n"
          ]
        }
      ]
    },
    {
      "cell_type": "markdown",
      "source": [
        "w.grad.zero_()"
      ],
      "metadata": {
        "id": "Fzz0ywnoxSLG"
      }
    },
    {
      "cell_type": "code",
      "source": [
        "# Define a tensor and enable gradient tracking\n",
        "w = torch.tensor([2.0, 3.0], requires_grad=True)\n",
        "\n",
        "# Compute a loss\n",
        "with torch.no_grad():\n",
        "   loss=(w**2).sum()\n",
        "\n",
        "\n",
        "    # Example loss function\n",
        "# Compute gradients\n",
        "\n",
        "print(\"Gradients before zeroing:\", w.grad)\n",
        "\n",
        "# Zero the gradients\n",
        "\n",
        "\n",
        "print(\"Gradients after zeroing:\", w.grad)\n"
      ],
      "metadata": {
        "colab": {
          "base_uri": "https://localhost:8080/"
        },
        "id": "YNbZoAnHxP2l",
        "outputId": "f6a4cef3-e068-4c0e-81fc-5bf9837ca655"
      },
      "execution_count": 12,
      "outputs": [
        {
          "output_type": "stream",
          "name": "stdout",
          "text": [
            "Gradients before zeroing: None\n",
            "Gradients after zeroing: None\n"
          ]
        }
      ]
    },
    {
      "cell_type": "code",
      "source": [],
      "metadata": {
        "colab": {
          "base_uri": "https://localhost:8080/"
        },
        "id": "VFZ6jya15ZlX",
        "outputId": "2cf5ea1b-cbcf-40d5-d552-03058d3b4da0"
      },
      "execution_count": null,
      "outputs": [
        {
          "output_type": "stream",
          "name": "stdout",
          "text": [
            "tensor([[ 73.,  67.,  43.],\n",
            "        [ 91.,  88.,  64.],\n",
            "        [ 87., 134.,  58.],\n",
            "        [102.,  43.,  37.],\n",
            "        [ 69.,  96.,  70.],\n",
            "        [ 85., 100.,  60.],\n",
            "        [ 95.,  80.,  55.],\n",
            "        [105., 120.,  75.],\n",
            "        [ 78.,  90.,  50.],\n",
            "        [ 82.,  70.,  45.]])\n",
            "tensor([[ 56.,  70.],\n",
            "        [ 81., 101.],\n",
            "        [119., 133.],\n",
            "        [ 22.,  37.],\n",
            "        [103., 119.],\n",
            "        [ 98., 110.],\n",
            "        [ 88.,  95.],\n",
            "        [115., 140.],\n",
            "        [ 76.,  85.],\n",
            "        [ 65.,  75.]])\n"
          ]
        }
      ]
    },
    {
      "cell_type": "code",
      "source": [
        "\n",
        "def model(x):\n",
        "  return torch.matmul(x,w)+b\n"
      ],
      "metadata": {
        "id": "74GvjkAX6JmF"
      },
      "execution_count": null,
      "outputs": []
    },
    {
      "cell_type": "code",
      "source": [
        "import torch.nn as nn\n",
        "import torch\n",
        "import pandas as pd\n",
        "from torch.utils.data import TensorDataset,DataLoader\n",
        "from sklearn.model_selection import train_test_split\n",
        "from sklearn.preprocessing import LabelEncoder\n",
        "import torch.nn.functional as F\n",
        "\n",
        "\n",
        "url = \"https://archive.ics.uci.edu/ml/machine-learning-databases/iris/iris.data\"\n",
        "df = pd.read_csv(url,header=None )\n",
        "\n",
        "df.columns = ['sepal_length', 'sepal_width', 'petal_length', 'petal_width', 'species']\n",
        "\n",
        "\n",
        "#  preprocessing\n",
        "#1. convert species to numeric labels\n",
        "label_encoder = LabelEncoder()\n",
        "df['species'] = label_encoder.fit_transform(df['species'])\n",
        "\n",
        "\n",
        "\n",
        "\n",
        "\n",
        "\n",
        "df\n"
      ],
      "metadata": {
        "id": "ecFBrKvpJorL",
        "colab": {
          "base_uri": "https://localhost:8080/",
          "height": 424
        },
        "outputId": "8e26fdc4-4683-4c12-a7aa-39fe9b8f7e72"
      },
      "execution_count": 14,
      "outputs": [
        {
          "output_type": "execute_result",
          "data": {
            "text/plain": [
              "     sepal_length  sepal_width  petal_length  petal_width  species\n",
              "0             5.1          3.5           1.4          0.2        0\n",
              "1             4.9          3.0           1.4          0.2        0\n",
              "2             4.7          3.2           1.3          0.2        0\n",
              "3             4.6          3.1           1.5          0.2        0\n",
              "4             5.0          3.6           1.4          0.2        0\n",
              "..            ...          ...           ...          ...      ...\n",
              "145           6.7          3.0           5.2          2.3        2\n",
              "146           6.3          2.5           5.0          1.9        2\n",
              "147           6.5          3.0           5.2          2.0        2\n",
              "148           6.2          3.4           5.4          2.3        2\n",
              "149           5.9          3.0           5.1          1.8        2\n",
              "\n",
              "[150 rows x 5 columns]"
            ],
            "text/html": [
              "\n",
              "  <div id=\"df-fdae3453-e064-489c-87bd-31faef334e91\" class=\"colab-df-container\">\n",
              "    <div>\n",
              "<style scoped>\n",
              "    .dataframe tbody tr th:only-of-type {\n",
              "        vertical-align: middle;\n",
              "    }\n",
              "\n",
              "    .dataframe tbody tr th {\n",
              "        vertical-align: top;\n",
              "    }\n",
              "\n",
              "    .dataframe thead th {\n",
              "        text-align: right;\n",
              "    }\n",
              "</style>\n",
              "<table border=\"1\" class=\"dataframe\">\n",
              "  <thead>\n",
              "    <tr style=\"text-align: right;\">\n",
              "      <th></th>\n",
              "      <th>sepal_length</th>\n",
              "      <th>sepal_width</th>\n",
              "      <th>petal_length</th>\n",
              "      <th>petal_width</th>\n",
              "      <th>species</th>\n",
              "    </tr>\n",
              "  </thead>\n",
              "  <tbody>\n",
              "    <tr>\n",
              "      <th>0</th>\n",
              "      <td>5.1</td>\n",
              "      <td>3.5</td>\n",
              "      <td>1.4</td>\n",
              "      <td>0.2</td>\n",
              "      <td>0</td>\n",
              "    </tr>\n",
              "    <tr>\n",
              "      <th>1</th>\n",
              "      <td>4.9</td>\n",
              "      <td>3.0</td>\n",
              "      <td>1.4</td>\n",
              "      <td>0.2</td>\n",
              "      <td>0</td>\n",
              "    </tr>\n",
              "    <tr>\n",
              "      <th>2</th>\n",
              "      <td>4.7</td>\n",
              "      <td>3.2</td>\n",
              "      <td>1.3</td>\n",
              "      <td>0.2</td>\n",
              "      <td>0</td>\n",
              "    </tr>\n",
              "    <tr>\n",
              "      <th>3</th>\n",
              "      <td>4.6</td>\n",
              "      <td>3.1</td>\n",
              "      <td>1.5</td>\n",
              "      <td>0.2</td>\n",
              "      <td>0</td>\n",
              "    </tr>\n",
              "    <tr>\n",
              "      <th>4</th>\n",
              "      <td>5.0</td>\n",
              "      <td>3.6</td>\n",
              "      <td>1.4</td>\n",
              "      <td>0.2</td>\n",
              "      <td>0</td>\n",
              "    </tr>\n",
              "    <tr>\n",
              "      <th>...</th>\n",
              "      <td>...</td>\n",
              "      <td>...</td>\n",
              "      <td>...</td>\n",
              "      <td>...</td>\n",
              "      <td>...</td>\n",
              "    </tr>\n",
              "    <tr>\n",
              "      <th>145</th>\n",
              "      <td>6.7</td>\n",
              "      <td>3.0</td>\n",
              "      <td>5.2</td>\n",
              "      <td>2.3</td>\n",
              "      <td>2</td>\n",
              "    </tr>\n",
              "    <tr>\n",
              "      <th>146</th>\n",
              "      <td>6.3</td>\n",
              "      <td>2.5</td>\n",
              "      <td>5.0</td>\n",
              "      <td>1.9</td>\n",
              "      <td>2</td>\n",
              "    </tr>\n",
              "    <tr>\n",
              "      <th>147</th>\n",
              "      <td>6.5</td>\n",
              "      <td>3.0</td>\n",
              "      <td>5.2</td>\n",
              "      <td>2.0</td>\n",
              "      <td>2</td>\n",
              "    </tr>\n",
              "    <tr>\n",
              "      <th>148</th>\n",
              "      <td>6.2</td>\n",
              "      <td>3.4</td>\n",
              "      <td>5.4</td>\n",
              "      <td>2.3</td>\n",
              "      <td>2</td>\n",
              "    </tr>\n",
              "    <tr>\n",
              "      <th>149</th>\n",
              "      <td>5.9</td>\n",
              "      <td>3.0</td>\n",
              "      <td>5.1</td>\n",
              "      <td>1.8</td>\n",
              "      <td>2</td>\n",
              "    </tr>\n",
              "  </tbody>\n",
              "</table>\n",
              "<p>150 rows × 5 columns</p>\n",
              "</div>\n",
              "    <div class=\"colab-df-buttons\">\n",
              "\n",
              "  <div class=\"colab-df-container\">\n",
              "    <button class=\"colab-df-convert\" onclick=\"convertToInteractive('df-fdae3453-e064-489c-87bd-31faef334e91')\"\n",
              "            title=\"Convert this dataframe to an interactive table.\"\n",
              "            style=\"display:none;\">\n",
              "\n",
              "  <svg xmlns=\"http://www.w3.org/2000/svg\" height=\"24px\" viewBox=\"0 -960 960 960\">\n",
              "    <path d=\"M120-120v-720h720v720H120Zm60-500h600v-160H180v160Zm220 220h160v-160H400v160Zm0 220h160v-160H400v160ZM180-400h160v-160H180v160Zm440 0h160v-160H620v160ZM180-180h160v-160H180v160Zm440 0h160v-160H620v160Z\"/>\n",
              "  </svg>\n",
              "    </button>\n",
              "\n",
              "  <style>\n",
              "    .colab-df-container {\n",
              "      display:flex;\n",
              "      gap: 12px;\n",
              "    }\n",
              "\n",
              "    .colab-df-convert {\n",
              "      background-color: #E8F0FE;\n",
              "      border: none;\n",
              "      border-radius: 50%;\n",
              "      cursor: pointer;\n",
              "      display: none;\n",
              "      fill: #1967D2;\n",
              "      height: 32px;\n",
              "      padding: 0 0 0 0;\n",
              "      width: 32px;\n",
              "    }\n",
              "\n",
              "    .colab-df-convert:hover {\n",
              "      background-color: #E2EBFA;\n",
              "      box-shadow: 0px 1px 2px rgba(60, 64, 67, 0.3), 0px 1px 3px 1px rgba(60, 64, 67, 0.15);\n",
              "      fill: #174EA6;\n",
              "    }\n",
              "\n",
              "    .colab-df-buttons div {\n",
              "      margin-bottom: 4px;\n",
              "    }\n",
              "\n",
              "    [theme=dark] .colab-df-convert {\n",
              "      background-color: #3B4455;\n",
              "      fill: #D2E3FC;\n",
              "    }\n",
              "\n",
              "    [theme=dark] .colab-df-convert:hover {\n",
              "      background-color: #434B5C;\n",
              "      box-shadow: 0px 1px 3px 1px rgba(0, 0, 0, 0.15);\n",
              "      filter: drop-shadow(0px 1px 2px rgba(0, 0, 0, 0.3));\n",
              "      fill: #FFFFFF;\n",
              "    }\n",
              "  </style>\n",
              "\n",
              "    <script>\n",
              "      const buttonEl =\n",
              "        document.querySelector('#df-fdae3453-e064-489c-87bd-31faef334e91 button.colab-df-convert');\n",
              "      buttonEl.style.display =\n",
              "        google.colab.kernel.accessAllowed ? 'block' : 'none';\n",
              "\n",
              "      async function convertToInteractive(key) {\n",
              "        const element = document.querySelector('#df-fdae3453-e064-489c-87bd-31faef334e91');\n",
              "        const dataTable =\n",
              "          await google.colab.kernel.invokeFunction('convertToInteractive',\n",
              "                                                    [key], {});\n",
              "        if (!dataTable) return;\n",
              "\n",
              "        const docLinkHtml = 'Like what you see? Visit the ' +\n",
              "          '<a target=\"_blank\" href=https://colab.research.google.com/notebooks/data_table.ipynb>data table notebook</a>'\n",
              "          + ' to learn more about interactive tables.';\n",
              "        element.innerHTML = '';\n",
              "        dataTable['output_type'] = 'display_data';\n",
              "        await google.colab.output.renderOutput(dataTable, element);\n",
              "        const docLink = document.createElement('div');\n",
              "        docLink.innerHTML = docLinkHtml;\n",
              "        element.appendChild(docLink);\n",
              "      }\n",
              "    </script>\n",
              "  </div>\n",
              "\n",
              "\n",
              "<div id=\"df-d73f3fb8-5c15-4af0-bd54-b69a3339a43d\">\n",
              "  <button class=\"colab-df-quickchart\" onclick=\"quickchart('df-d73f3fb8-5c15-4af0-bd54-b69a3339a43d')\"\n",
              "            title=\"Suggest charts\"\n",
              "            style=\"display:none;\">\n",
              "\n",
              "<svg xmlns=\"http://www.w3.org/2000/svg\" height=\"24px\"viewBox=\"0 0 24 24\"\n",
              "     width=\"24px\">\n",
              "    <g>\n",
              "        <path d=\"M19 3H5c-1.1 0-2 .9-2 2v14c0 1.1.9 2 2 2h14c1.1 0 2-.9 2-2V5c0-1.1-.9-2-2-2zM9 17H7v-7h2v7zm4 0h-2V7h2v10zm4 0h-2v-4h2v4z\"/>\n",
              "    </g>\n",
              "</svg>\n",
              "  </button>\n",
              "\n",
              "<style>\n",
              "  .colab-df-quickchart {\n",
              "      --bg-color: #E8F0FE;\n",
              "      --fill-color: #1967D2;\n",
              "      --hover-bg-color: #E2EBFA;\n",
              "      --hover-fill-color: #174EA6;\n",
              "      --disabled-fill-color: #AAA;\n",
              "      --disabled-bg-color: #DDD;\n",
              "  }\n",
              "\n",
              "  [theme=dark] .colab-df-quickchart {\n",
              "      --bg-color: #3B4455;\n",
              "      --fill-color: #D2E3FC;\n",
              "      --hover-bg-color: #434B5C;\n",
              "      --hover-fill-color: #FFFFFF;\n",
              "      --disabled-bg-color: #3B4455;\n",
              "      --disabled-fill-color: #666;\n",
              "  }\n",
              "\n",
              "  .colab-df-quickchart {\n",
              "    background-color: var(--bg-color);\n",
              "    border: none;\n",
              "    border-radius: 50%;\n",
              "    cursor: pointer;\n",
              "    display: none;\n",
              "    fill: var(--fill-color);\n",
              "    height: 32px;\n",
              "    padding: 0;\n",
              "    width: 32px;\n",
              "  }\n",
              "\n",
              "  .colab-df-quickchart:hover {\n",
              "    background-color: var(--hover-bg-color);\n",
              "    box-shadow: 0 1px 2px rgba(60, 64, 67, 0.3), 0 1px 3px 1px rgba(60, 64, 67, 0.15);\n",
              "    fill: var(--button-hover-fill-color);\n",
              "  }\n",
              "\n",
              "  .colab-df-quickchart-complete:disabled,\n",
              "  .colab-df-quickchart-complete:disabled:hover {\n",
              "    background-color: var(--disabled-bg-color);\n",
              "    fill: var(--disabled-fill-color);\n",
              "    box-shadow: none;\n",
              "  }\n",
              "\n",
              "  .colab-df-spinner {\n",
              "    border: 2px solid var(--fill-color);\n",
              "    border-color: transparent;\n",
              "    border-bottom-color: var(--fill-color);\n",
              "    animation:\n",
              "      spin 1s steps(1) infinite;\n",
              "  }\n",
              "\n",
              "  @keyframes spin {\n",
              "    0% {\n",
              "      border-color: transparent;\n",
              "      border-bottom-color: var(--fill-color);\n",
              "      border-left-color: var(--fill-color);\n",
              "    }\n",
              "    20% {\n",
              "      border-color: transparent;\n",
              "      border-left-color: var(--fill-color);\n",
              "      border-top-color: var(--fill-color);\n",
              "    }\n",
              "    30% {\n",
              "      border-color: transparent;\n",
              "      border-left-color: var(--fill-color);\n",
              "      border-top-color: var(--fill-color);\n",
              "      border-right-color: var(--fill-color);\n",
              "    }\n",
              "    40% {\n",
              "      border-color: transparent;\n",
              "      border-right-color: var(--fill-color);\n",
              "      border-top-color: var(--fill-color);\n",
              "    }\n",
              "    60% {\n",
              "      border-color: transparent;\n",
              "      border-right-color: var(--fill-color);\n",
              "    }\n",
              "    80% {\n",
              "      border-color: transparent;\n",
              "      border-right-color: var(--fill-color);\n",
              "      border-bottom-color: var(--fill-color);\n",
              "    }\n",
              "    90% {\n",
              "      border-color: transparent;\n",
              "      border-bottom-color: var(--fill-color);\n",
              "    }\n",
              "  }\n",
              "</style>\n",
              "\n",
              "  <script>\n",
              "    async function quickchart(key) {\n",
              "      const quickchartButtonEl =\n",
              "        document.querySelector('#' + key + ' button');\n",
              "      quickchartButtonEl.disabled = true;  // To prevent multiple clicks.\n",
              "      quickchartButtonEl.classList.add('colab-df-spinner');\n",
              "      try {\n",
              "        const charts = await google.colab.kernel.invokeFunction(\n",
              "            'suggestCharts', [key], {});\n",
              "      } catch (error) {\n",
              "        console.error('Error during call to suggestCharts:', error);\n",
              "      }\n",
              "      quickchartButtonEl.classList.remove('colab-df-spinner');\n",
              "      quickchartButtonEl.classList.add('colab-df-quickchart-complete');\n",
              "    }\n",
              "    (() => {\n",
              "      let quickchartButtonEl =\n",
              "        document.querySelector('#df-d73f3fb8-5c15-4af0-bd54-b69a3339a43d button');\n",
              "      quickchartButtonEl.style.display =\n",
              "        google.colab.kernel.accessAllowed ? 'block' : 'none';\n",
              "    })();\n",
              "  </script>\n",
              "</div>\n",
              "\n",
              "  <div id=\"id_6c449bb7-9705-4e01-a846-65a4e026b34f\">\n",
              "    <style>\n",
              "      .colab-df-generate {\n",
              "        background-color: #E8F0FE;\n",
              "        border: none;\n",
              "        border-radius: 50%;\n",
              "        cursor: pointer;\n",
              "        display: none;\n",
              "        fill: #1967D2;\n",
              "        height: 32px;\n",
              "        padding: 0 0 0 0;\n",
              "        width: 32px;\n",
              "      }\n",
              "\n",
              "      .colab-df-generate:hover {\n",
              "        background-color: #E2EBFA;\n",
              "        box-shadow: 0px 1px 2px rgba(60, 64, 67, 0.3), 0px 1px 3px 1px rgba(60, 64, 67, 0.15);\n",
              "        fill: #174EA6;\n",
              "      }\n",
              "\n",
              "      [theme=dark] .colab-df-generate {\n",
              "        background-color: #3B4455;\n",
              "        fill: #D2E3FC;\n",
              "      }\n",
              "\n",
              "      [theme=dark] .colab-df-generate:hover {\n",
              "        background-color: #434B5C;\n",
              "        box-shadow: 0px 1px 3px 1px rgba(0, 0, 0, 0.15);\n",
              "        filter: drop-shadow(0px 1px 2px rgba(0, 0, 0, 0.3));\n",
              "        fill: #FFFFFF;\n",
              "      }\n",
              "    </style>\n",
              "    <button class=\"colab-df-generate\" onclick=\"generateWithVariable('df')\"\n",
              "            title=\"Generate code using this dataframe.\"\n",
              "            style=\"display:none;\">\n",
              "\n",
              "  <svg xmlns=\"http://www.w3.org/2000/svg\" height=\"24px\"viewBox=\"0 0 24 24\"\n",
              "       width=\"24px\">\n",
              "    <path d=\"M7,19H8.4L18.45,9,17,7.55,7,17.6ZM5,21V16.75L18.45,3.32a2,2,0,0,1,2.83,0l1.4,1.43a1.91,1.91,0,0,1,.58,1.4,1.91,1.91,0,0,1-.58,1.4L9.25,21ZM18.45,9,17,7.55Zm-12,3A5.31,5.31,0,0,0,4.9,8.1,5.31,5.31,0,0,0,1,6.5,5.31,5.31,0,0,0,4.9,4.9,5.31,5.31,0,0,0,6.5,1,5.31,5.31,0,0,0,8.1,4.9,5.31,5.31,0,0,0,12,6.5,5.46,5.46,0,0,0,6.5,12Z\"/>\n",
              "  </svg>\n",
              "    </button>\n",
              "    <script>\n",
              "      (() => {\n",
              "      const buttonEl =\n",
              "        document.querySelector('#id_6c449bb7-9705-4e01-a846-65a4e026b34f button.colab-df-generate');\n",
              "      buttonEl.style.display =\n",
              "        google.colab.kernel.accessAllowed ? 'block' : 'none';\n",
              "\n",
              "      buttonEl.onclick = () => {\n",
              "        google.colab.notebook.generateWithVariable('df');\n",
              "      }\n",
              "      })();\n",
              "    </script>\n",
              "  </div>\n",
              "\n",
              "    </div>\n",
              "  </div>\n"
            ],
            "application/vnd.google.colaboratory.intrinsic+json": {
              "type": "dataframe",
              "variable_name": "df",
              "summary": "{\n  \"name\": \"df\",\n  \"rows\": 150,\n  \"fields\": [\n    {\n      \"column\": \"sepal_length\",\n      \"properties\": {\n        \"dtype\": \"number\",\n        \"std\": 0.8280661279778629,\n        \"min\": 4.3,\n        \"max\": 7.9,\n        \"num_unique_values\": 35,\n        \"samples\": [\n          6.2,\n          4.5,\n          5.6\n        ],\n        \"semantic_type\": \"\",\n        \"description\": \"\"\n      }\n    },\n    {\n      \"column\": \"sepal_width\",\n      \"properties\": {\n        \"dtype\": \"number\",\n        \"std\": 0.4335943113621737,\n        \"min\": 2.0,\n        \"max\": 4.4,\n        \"num_unique_values\": 23,\n        \"samples\": [\n          2.3,\n          4.0,\n          3.5\n        ],\n        \"semantic_type\": \"\",\n        \"description\": \"\"\n      }\n    },\n    {\n      \"column\": \"petal_length\",\n      \"properties\": {\n        \"dtype\": \"number\",\n        \"std\": 1.7644204199522617,\n        \"min\": 1.0,\n        \"max\": 6.9,\n        \"num_unique_values\": 43,\n        \"samples\": [\n          6.7,\n          3.8,\n          3.7\n        ],\n        \"semantic_type\": \"\",\n        \"description\": \"\"\n      }\n    },\n    {\n      \"column\": \"petal_width\",\n      \"properties\": {\n        \"dtype\": \"number\",\n        \"std\": 0.7631607417008414,\n        \"min\": 0.1,\n        \"max\": 2.5,\n        \"num_unique_values\": 22,\n        \"samples\": [\n          0.2,\n          1.2,\n          1.3\n        ],\n        \"semantic_type\": \"\",\n        \"description\": \"\"\n      }\n    },\n    {\n      \"column\": \"species\",\n      \"properties\": {\n        \"dtype\": \"number\",\n        \"std\": 0,\n        \"min\": 0,\n        \"max\": 2,\n        \"num_unique_values\": 3,\n        \"samples\": [\n          0,\n          1,\n          2\n        ],\n        \"semantic_type\": \"\",\n        \"description\": \"\"\n      }\n    }\n  ]\n}"
            }
          },
          "metadata": {},
          "execution_count": 14
        }
      ]
    },
    {
      "cell_type": "code",
      "source": [
        "#2. split into features and target\n",
        "X=df[['sepal_length', 'sepal_width', 'petal_length', 'petal_width']].values\n",
        "Y=df['species'].values\n",
        "\n",
        "\n"
      ],
      "metadata": {
        "id": "G4bFrKy1xK41"
      },
      "execution_count": 20,
      "outputs": []
    },
    {
      "cell_type": "code",
      "source": [
        "#3. Split into training and testing sets\n",
        "X_train, X_test, y_train, y_test = train_test_split(X, Y, test_size=0.2, random_state=42)"
      ],
      "metadata": {
        "id": "DQiC70efyCwx"
      },
      "execution_count": 21,
      "outputs": []
    },
    {
      "cell_type": "code",
      "source": [
        "# convert to pytorch tensor\n",
        "X_train=torch.tensor(X_train,dtype=torch.float32)\n",
        "y_train=torch.tensor(y_train,dtype=torch.long)\n",
        "X_test=torch.tensor(X_test,dtype=torch.float32)\n",
        "y_test=torch.tensor(y_test,dtype=torch.long)\n"
      ],
      "metadata": {
        "id": "o5szeLKGvQ1L"
      },
      "execution_count": 22,
      "outputs": []
    },
    {
      "cell_type": "code",
      "source": [
        "#define the neurl network class\n",
        "class NeuralNetwork(nn.Module):\n",
        "  def __init__(self,input_size,hidden_size,output_size):\n",
        "    super(NeuralNetwork,self).__init__()\n",
        "    self.fc1=nn.Linear(input_size,hidden_size)\n",
        "    self.fc2=nn.Linear(hidden_size,output_size)\n",
        "  def forward(self,x):\n",
        "    x=F.relu(self.fc1(x))\n",
        "    x=self.fc2(x)\n",
        "    return x\n",
        "\n",
        "# create an instance of the neural network\n",
        "net = NeuralNetwork(input_size=4, hidden_size=10, output_size=3)\n",
        "\n",
        "#define the loss function and optimizer\n",
        "\n",
        "criterion = nn.CrossEntropyLoss()\n",
        "optimizer = torch.optim.Adam(net.parameters(), lr=0.01)\n",
        "\n",
        "#  training loop\n",
        "for epoch in range(100):\n",
        "  for batch_idx, (inputs, targets) in enumerate(train_loader):\n",
        "    # Forward pass\n",
        "    outputs = net(inputs)\n",
        "    loss = criterion(outputs, targets)\n",
        "\n",
        "\n"
      ],
      "metadata": {
        "id": "7vkO9qbtzbFI"
      },
      "execution_count": null,
      "outputs": []
    }
  ]
}